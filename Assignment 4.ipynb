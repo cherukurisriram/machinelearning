{
 "cells": [
  {
   "cell_type": "markdown",
   "metadata": {},
   "source": [
    "Assignment 4 submitted by Sriram Cherukuri"
   ]
  },
  {
   "cell_type": "markdown",
   "metadata": {},
   "source": [
    "1.1 Write a Python Program(with class concepts) to find the area of the triangle using the below formula. area = (s(s-a)(s-b)(s-c)) * 0.5 Function to take the length of the sides of triangle from user should be defined in the parent class and function to calculate the area should be defined in subclass."
   ]
  },
  {
   "cell_type": "code",
   "execution_count": 1,
   "metadata": {},
   "outputs": [
    {
     "data": {
      "text/plain": [
       "839.7272994847791"
      ]
     },
     "execution_count": 1,
     "metadata": {},
     "output_type": "execute_result"
    }
   ],
   "source": [
    "class TriangleArea:\n",
    "        \n",
    "    def __init__(self, side1, side2, side3):\n",
    "        self.side1= side1\n",
    "        self.side2= side2\n",
    "        self.side3= side3\n",
    "        \n",
    "        self.s = (self.side1+self.side2+self.side3)/2\n",
    "        \n",
    "    def area(self):\n",
    "        \n",
    "        return (self.s*(self.s-self.side1)*(self.s-self.side2)*(self.s-self.side3))**0.5\n",
    "       \n",
    "    \n",
    "    def __str__(self):\n",
    "        print (\"the area of triangle with given sides is {}\".format(self.area))\n",
    "\n",
    "a= TriangleArea(100,104,17)\n",
    "a.area()"
   ]
  },
  {
   "cell_type": "markdown",
   "metadata": {},
   "source": [
    "1.2 Write a function filter_long_words() that takes a list of words and an integer n and returns\n",
    "the list of words that are longer than n."
   ]
  },
  {
   "cell_type": "code",
   "execution_count": 30,
   "metadata": {},
   "outputs": [
    {
     "data": {
      "text/plain": [
       "['akbdkjsad', 'asjhjhafjhfdhdf', 'jysjayfdyfyufyjdfdhfjdfjj']"
      ]
     },
     "execution_count": 30,
     "metadata": {},
     "output_type": "execute_result"
    }
   ],
   "source": [
    "def filter_long_words(words_list, size):\n",
    "    temp =[]\n",
    "    for i in words_list:\n",
    "        if len(i) > size:\n",
    "            temp.append(i)\n",
    "    return temp\n",
    "\n",
    "\n",
    "a= ['a','ab','abc','akbdkjsad','asjhjhafjhfdhdf','jysjayfdyfyufyjdfdhfjdfjj']        \n",
    "\n",
    "filter_long_words(a,3)\n"
   ]
  },
  {
   "cell_type": "markdown",
   "metadata": {},
   "source": [
    "2.1 Write a Python program using function concept that maps list of words into a list of integers\n",
    "representing the lengths of the corresponding words."
   ]
  },
  {
   "cell_type": "code",
   "execution_count": 38,
   "metadata": {},
   "outputs": [
    {
     "name": "stdout",
     "output_type": "stream",
     "text": [
      "[3, 6, 9, 1, 11]\n"
     ]
    }
   ],
   "source": [
    "def word_len(word_list):\n",
    "    return len(word_list)\n",
    "\n",
    "a = ['sri','sriram','cherukuri','c','asd2asda123']\n",
    "res= list(map(word_len, a))\n",
    "print(res)\n"
   ]
  },
  {
   "cell_type": "markdown",
   "metadata": {},
   "source": [
    "2.2 Write a Python function which takes a character (i.e. a string of length 1) and returns True if it is a vowel, False otherwise."
   ]
  },
  {
   "cell_type": "code",
   "execution_count": 39,
   "metadata": {},
   "outputs": [
    {
     "name": "stdout",
     "output_type": "stream",
     "text": [
      "False\n",
      "True\n"
     ]
    }
   ],
   "source": [
    "def is_vowel(char):    \n",
    "    vowles= 'aeiou'\n",
    "    for i in vowles:\n",
    "        if char == i:\n",
    "            return True\n",
    "            break\n",
    "    else:\n",
    "        return False\n",
    "        \n",
    "print(is_vowel('v'))\n",
    "print(is_vowel('u'))"
   ]
  },
  {
   "cell_type": "code",
   "execution_count": null,
   "metadata": {},
   "outputs": [],
   "source": []
  }
 ],
 "metadata": {
  "kernelspec": {
   "display_name": "Python 3",
   "language": "python",
   "name": "python3"
  },
  "language_info": {
   "codemirror_mode": {
    "name": "ipython",
    "version": 3
   },
   "file_extension": ".py",
   "mimetype": "text/x-python",
   "name": "python",
   "nbconvert_exporter": "python",
   "pygments_lexer": "ipython3",
   "version": "3.7.4"
  }
 },
 "nbformat": 4,
 "nbformat_minor": 2
}
